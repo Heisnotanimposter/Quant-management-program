{
  "nbformat": 4,
  "nbformat_minor": 0,
  "metadata": {
    "colab": {
      "provenance": [],
      "authorship_tag": "ABX9TyPx3XqdLrzIjEt9UZDhD8E/",
      "include_colab_link": true
    },
    "kernelspec": {
      "name": "python3",
      "display_name": "Python 3"
    },
    "language_info": {
      "name": "python"
    }
  },
  "cells": [
    {
      "cell_type": "markdown",
      "metadata": {
        "id": "view-in-github",
        "colab_type": "text"
      },
      "source": [
        "<a href=\"https://colab.research.google.com/github/Heisnotanimposter/Quant-management-program/blob/main/BBCnews_autoCrawler.ipynb\" target=\"_parent\"><img src=\"https://colab.research.google.com/assets/colab-badge.svg\" alt=\"Open In Colab\"/></a>"
      ]
    },
    {
      "cell_type": "code",
      "execution_count": 5,
      "metadata": {
        "colab": {
          "base_uri": "https://localhost:8080/"
        },
        "id": "WpRR0P87R5Ru",
        "outputId": "624dc135-231e-4bca-d96c-2cd3da28f4a0"
      },
      "outputs": [
        {
          "output_type": "stream",
          "name": "stdout",
          "text": [
            "Looking in indexes: https://pypi.org/simple, https://us-python.pkg.dev/colab-wheels/public/simple/\n",
            "Requirement already satisfied: beautifulsoup4 in /usr/local/lib/python3.10/dist-packages (4.11.2)\n",
            "Requirement already satisfied: soupsieve>1.2 in /usr/local/lib/python3.10/dist-packages (from beautifulsoup4) (2.4.1)\n",
            "Looking in indexes: https://pypi.org/simple, https://us-python.pkg.dev/colab-wheels/public/simple/\n",
            "Requirement already satisfied: requests in /usr/local/lib/python3.10/dist-packages (2.27.1)\n",
            "Requirement already satisfied: urllib3<1.27,>=1.21.1 in /usr/local/lib/python3.10/dist-packages (from requests) (1.26.15)\n",
            "Requirement already satisfied: certifi>=2017.4.17 in /usr/local/lib/python3.10/dist-packages (from requests) (2022.12.7)\n",
            "Requirement already satisfied: charset-normalizer~=2.0.0 in /usr/local/lib/python3.10/dist-packages (from requests) (2.0.12)\n",
            "Requirement already satisfied: idna<4,>=2.5 in /usr/local/lib/python3.10/dist-packages (from requests) (3.4)\n"
          ]
        }
      ],
      "source": [
        "!pip install beautifulsoup4\n",
        "!pip install requests"
      ]
    },
    {
      "cell_type": "code",
      "source": [
        "import requests\n",
        "from bs4 import BeautifulSoup\n",
        "\n",
        "def scrape_bbc_news():\n",
        "    # Make a request\n",
        "    page = requests.get(\"https://www.bbc.co.uk/news\")\n",
        "\n",
        "    # Create a BeautifulSoup object\n",
        "    soup = BeautifulSoup(page.content, 'html.parser')\n",
        "\n",
        "    # Find all the headline elements\n",
        "    headlines = soup.find_all('h3')\n",
        "\n",
        "    # Print each headline text\n",
        "    for headline in headlines:\n",
        "        print(headline.get_text())\n",
        "\n",
        "scrape_bbc_business_news()\n"
      ],
      "metadata": {
        "colab": {
          "base_uri": "https://localhost:8080/"
        },
        "id": "XQFJPcJCSUWU",
        "outputId": "760e36e5-0ced-4fb4-ede5-344a275caf56"
      },
      "execution_count": 6,
      "outputs": [
        {
          "output_type": "stream",
          "name": "stdout",
          "text": [
            "Turkish opposition dares to dream of Erdogan defeat\n",
            "Turkish opposition dares to dream of Erdogan defeat\n",
            "US doomsday cult mum guilty of murdering children\n",
            "Ukraine claims Bakhmut gains after Russia denials\n",
            "How Trump presidency could change Ukraine war\n",
            "'My grandma died alone in Sudan, now I can't bury her'\n",
            "Ex-Marine charged with NY subway chokehold death\n",
            "US ambassador 'apologises to SA over Russia claim'\n",
            "The $135m cost of finding an alleged killer’s victims\n",
            "US company refuses to recall 67m airbag inflators\n",
            "Honduran migrant teenager dies in US custody\n",
            "Jamie Foxx out of hospital, daughter says\n",
            "Honduran migrant teenager dies in US custody\n",
            "Jamie Foxx out of hospital, daughter says\n",
            "George Santos admits to theft in Brazil court\n",
            "Coronation photo shows three royal generations\n",
            "Imran Khan's dramatic arrest saga... in under 90 seconds\n",
            "US cities far from border grapple with migrant crisis\n",
            "BBC World News TV\n",
            "BBC World Service Radio\n",
            "Chicago kayakers discover 'Chonkosaurus' turtle\n",
            "This steam-powered motorcycle runs on beer\n",
            "What happened to Jordan Neely?\n",
            "Weekly quiz: What's Tom Hanks' debut novel called?\n",
            "Eurovision fans, can you finish the lyric?\n",
            "What to expect from Beyoncé's Renaissance tour\n",
            "UK's Mae Muller on Eurovision: 'My dad will be shaking'\n",
            "'I'm afraid that elephants will kill me'\n",
            "Why Pakistan shut down the internet\n",
            "‘You don’t think of yourself as a gay icon’\n",
            "Which European nations are winning the heat pump race?\n",
            "'I lost 11 family members in Kerala boat accident'\n",
            "The US plan to nuke the Moon\n",
            "The three job categories safe from AI\n",
            "A uniquely Taiwanese creation\n",
            "How the 'naked' look took over fashion\n",
            "The murky maths of Eurovision voting\n",
            "The workers quitting the jobs they love\n",
            "NYC's eight best literary venues\n",
            "NFL's Commanders agree record £4.8bn sale\n",
            "'It began with an earthquake and a 5-0 loss - then things got worse'\n",
            "Nagelsmann will not be next Tottenham boss\n",
            "'Good chance' Rice will leave West Ham - Moyes\n",
            "Guardiola 'can't understand' Man City scheduling\n",
            "Edwards beats Mousasi to set up Bellator title shot\n",
            "Many quality players want to join Man Utd - Ten Hag\n",
            "News daily newsletter\n",
            "Mobile app\n",
            "Get in touch\n"
          ]
        }
      ]
    },
    {
      "cell_type": "code",
      "source": [],
      "metadata": {
        "id": "j00czuuTSUmJ"
      },
      "execution_count": null,
      "outputs": []
    }
  ]
}
