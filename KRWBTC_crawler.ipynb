{
  "nbformat": 4,
  "nbformat_minor": 0,
  "metadata": {
    "colab": {
      "provenance": [],
      "authorship_tag": "ABX9TyNwipdeAzE6HWXPY/pId025",
      "include_colab_link": true
    },
    "kernelspec": {
      "name": "python3",
      "display_name": "Python 3"
    },
    "language_info": {
      "name": "python"
    }
  },
  "cells": [
    {
      "cell_type": "markdown",
      "metadata": {
        "id": "view-in-github",
        "colab_type": "text"
      },
      "source": [
        "<a href=\"https://colab.research.google.com/github/Heisnotanimposter/UPbit-quant/blob/main/KRWBTC_crawler.ipynb\" target=\"_parent\"><img src=\"https://colab.research.google.com/assets/colab-badge.svg\" alt=\"Open In Colab\"/></a>"
      ]
    },
    {
      "cell_type": "code",
      "source": [
        "!pip install pyupbit\n",
        "\n",
        "import time\n",
        "import pyupbit\n",
        "import datetime\n",
        "\n",
        "\n",
        "access_key = \" \"\n",
        "secret_key = \" \"\n",
        "upbit = pyupbit.Upbit(access_key, secret_key)"
      ],
      "metadata": {
        "colab": {
          "base_uri": "https://localhost:8080/"
        },
        "id": "boy9ZdePCOQp",
        "outputId": "fee63929-9c05-4bce-dcc8-647219357cca"
      },
      "execution_count": null,
      "outputs": [
        {
          "output_type": "stream",
          "name": "stdout",
          "text": [
            "Looking in indexes: https://pypi.org/simple, https://us-python.pkg.dev/colab-wheels/public/simple/\n",
            "Requirement already satisfied: pyupbit in /usr/local/lib/python3.10/dist-packages (0.2.33)\n",
            "Requirement already satisfied: pandas in /usr/local/lib/python3.10/dist-packages (from pyupbit) (1.5.3)\n",
            "Requirement already satisfied: pyjwt>=2.0.0 in /usr/local/lib/python3.10/dist-packages (from pyupbit) (2.6.0)\n",
            "Requirement already satisfied: websockets in /usr/local/lib/python3.10/dist-packages (from pyupbit) (11.0.2)\n",
            "Requirement already satisfied: requests in /usr/local/lib/python3.10/dist-packages (from pyupbit) (2.27.1)\n",
            "Requirement already satisfied: python-dateutil>=2.8.1 in /usr/local/lib/python3.10/dist-packages (from pandas->pyupbit) (2.8.2)\n",
            "Requirement already satisfied: pytz>=2020.1 in /usr/local/lib/python3.10/dist-packages (from pandas->pyupbit) (2022.7.1)\n",
            "Requirement already satisfied: numpy>=1.21.0 in /usr/local/lib/python3.10/dist-packages (from pandas->pyupbit) (1.22.4)\n",
            "Requirement already satisfied: urllib3<1.27,>=1.21.1 in /usr/local/lib/python3.10/dist-packages (from requests->pyupbit) (1.26.15)\n",
            "Requirement already satisfied: idna<4,>=2.5 in /usr/local/lib/python3.10/dist-packages (from requests->pyupbit) (3.4)\n",
            "Requirement already satisfied: charset-normalizer~=2.0.0 in /usr/local/lib/python3.10/dist-packages (from requests->pyupbit) (2.0.12)\n",
            "Requirement already satisfied: certifi>=2017.4.17 in /usr/local/lib/python3.10/dist-packages (from requests->pyupbit) (2022.12.7)\n",
            "Requirement already satisfied: six>=1.5 in /usr/local/lib/python3.10/dist-packages (from python-dateutil>=2.8.1->pandas->pyupbit) (1.16.0)\n"
          ]
        }
      ]
    },
    {
      "cell_type": "code",
      "source": [
        "# Define your trading strategy\n",
        "def buy_sell_strategy(ticker):\n",
        "    # Get current ticker price and MACD indicator\n",
        "    df = pyupbit.get_ohlcv(ticker)\n",
        "    macd = df['close'].ewm(span=12).mean() - df['close'].ewm(span=26).mean()\n",
        "    macd_signal = macd.ewm(span=9).mean()\n",
        "    current_price = pyupbit.get_current_price(ticker)\n",
        "\n",
        "    # Make buy and sell decisions based on the MACD indicator\n",
        "    if macd[-2] < macd_signal[-2] and macd[-1] > macd_signal[-1]:\n",
        "        krw_balance = upbit.get_balance(\"KRW\")\n",
        "        if krw_balance > 10000:\n",
        "            upbit.buy_market_order(ticker, krw_balance*0.9995)\n",
        "            return True\n",
        "    elif macd[-2] > macd_signal[-2] and macd[-1] < macd_signal[-1]:\n",
        "        coin_balance = upbit.get_balance(ticker)\n",
        "        if coin_balance > 0.0001:\n",
        "            upbit.sell_market_order(ticker, coin_balance)\n",
        "            return True\n",
        "    return False\n"
      ],
      "metadata": {
        "id": "Hoy3MOY5Eo3f"
      },
      "execution_count": null,
      "outputs": []
    },
    {
      "cell_type": "code",
      "source": [
        "# Run auto quant trading\n",
        "for i in range(1000):\n",
        "    try:\n",
        "        now = datetime.datetime.now()\n",
        "        start_time = datetime.datetime(now.year, now.month, now.day)  # Start of the day\n",
        "\n",
        "        # Get the candlestick data for the KRW-BTC market\n",
        "        df = pyupbit.get_ohlcv(\"KRW-BTC\", interval=\"day\", to=now)\n",
        "\n",
        "        # Save the candlestick data to a CSV file\n",
        "        df.to_csv('krw_btc_candlesticks.csv')\n",
        "\n",
        "        # Get the start time of the first candlestick\n",
        "        if start_time == df.index[0]:\n",
        "            if buy_sell_strategy(\"KRW-BTC\"):\n",
        "                print(\"Trading signal detected and executed.\")\n",
        "\n",
        "        # Wait for the next trading opportunity\n",
        "        time.sleep(1)\n",
        "    except Exception as e:\n",
        "        print(e)\n",
        "        time.sleep(1)"
      ],
      "metadata": {
        "colab": {
          "base_uri": "https://localhost:8080/",
          "height": 248
        },
        "id": "nhau2FSvEpBX",
        "outputId": "650d14d4-5aab-4ce4-8002-5def9160ac22"
      },
      "execution_count": null,
      "outputs": [
        {
          "output_type": "error",
          "ename": "KeyboardInterrupt",
          "evalue": "ignored",
          "traceback": [
            "\u001b[0;31m---------------------------------------------------------------------------\u001b[0m",
            "\u001b[0;31mKeyboardInterrupt\u001b[0m                         Traceback (most recent call last)",
            "\u001b[0;32m<ipython-input-6-905ab27b206c>\u001b[0m in \u001b[0;36m<cell line: 2>\u001b[0;34m()\u001b[0m\n\u001b[1;32m     17\u001b[0m \u001b[0;34m\u001b[0m\u001b[0m\n\u001b[1;32m     18\u001b[0m         \u001b[0;31m# Wait for the next trading opportunity\u001b[0m\u001b[0;34m\u001b[0m\u001b[0;34m\u001b[0m\u001b[0m\n\u001b[0;32m---> 19\u001b[0;31m         \u001b[0mtime\u001b[0m\u001b[0;34m.\u001b[0m\u001b[0msleep\u001b[0m\u001b[0;34m(\u001b[0m\u001b[0;36m1\u001b[0m\u001b[0;34m)\u001b[0m\u001b[0;34m\u001b[0m\u001b[0;34m\u001b[0m\u001b[0m\n\u001b[0m\u001b[1;32m     20\u001b[0m     \u001b[0;32mexcept\u001b[0m \u001b[0mException\u001b[0m \u001b[0;32mas\u001b[0m \u001b[0me\u001b[0m\u001b[0;34m:\u001b[0m\u001b[0;34m\u001b[0m\u001b[0;34m\u001b[0m\u001b[0m\n\u001b[1;32m     21\u001b[0m         \u001b[0mprint\u001b[0m\u001b[0;34m(\u001b[0m\u001b[0me\u001b[0m\u001b[0;34m)\u001b[0m\u001b[0;34m\u001b[0m\u001b[0;34m\u001b[0m\u001b[0m\n",
            "\u001b[0;31mKeyboardInterrupt\u001b[0m: "
          ]
        }
      ]
    },
    {
      "cell_type": "code",
      "execution_count": null,
      "metadata": {
        "id": "wGPkycmoA_E5"
      },
      "outputs": [],
      "source": []
    },
    {
      "cell_type": "code",
      "source": [],
      "metadata": {
        "id": "s5Oy-4tbV9mR"
      },
      "execution_count": null,
      "outputs": []
    }
  ]
}