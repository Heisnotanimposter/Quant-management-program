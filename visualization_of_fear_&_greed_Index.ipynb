{
  "nbformat": 4,
  "nbformat_minor": 0,
  "metadata": {
    "colab": {
      "provenance": [],
      "authorship_tag": "ABX9TyN8vEeAsiPFlm3uEjRwjSK8",
      "include_colab_link": true
    },
    "kernelspec": {
      "name": "python3",
      "display_name": "Python 3"
    },
    "language_info": {
      "name": "python"
    }
  },
  "cells": [
    {
      "cell_type": "markdown",
      "metadata": {
        "id": "view-in-github",
        "colab_type": "text"
      },
      "source": [
        "<a href=\"https://colab.research.google.com/github/Heisnotanimposter/UPbit-quant/blob/main/visualization_of_fear_%26_greed_Index.ipynb\" target=\"_parent\"><img src=\"https://colab.research.google.com/assets/colab-badge.svg\" alt=\"Open In Colab\"/></a>"
      ]
    },
    {
      "cell_type": "code",
      "execution_count": 2,
      "metadata": {
        "colab": {
          "base_uri": "https://localhost:8080/",
          "height": 394
        },
        "id": "ogorXMsPAAKl",
        "outputId": "9a6e4767-7ba8-4b49-f0a7-55ca180a8304"
      },
      "outputs": [
        {
          "output_type": "error",
          "ename": "ModuleNotFoundError",
          "evalue": "ignored",
          "traceback": [
            "\u001b[0;31m---------------------------------------------------------------------------\u001b[0m",
            "\u001b[0;31mModuleNotFoundError\u001b[0m                       Traceback (most recent call last)",
            "\u001b[0;32m<ipython-input-2-9c528f0e61c0>\u001b[0m in \u001b[0;36m<cell line: 2>\u001b[0;34m()\u001b[0m\n\u001b[1;32m      1\u001b[0m \u001b[0;32mimport\u001b[0m \u001b[0mpandas\u001b[0m \u001b[0;32mas\u001b[0m \u001b[0mpd\u001b[0m\u001b[0;34m\u001b[0m\u001b[0;34m\u001b[0m\u001b[0m\n\u001b[0;32m----> 2\u001b[0;31m \u001b[0;32mimport\u001b[0m \u001b[0mstreamlit\u001b[0m \u001b[0;32mas\u001b[0m \u001b[0mst\u001b[0m\u001b[0;34m\u001b[0m\u001b[0;34m\u001b[0m\u001b[0m\n\u001b[0m\u001b[1;32m      3\u001b[0m \u001b[0;32mimport\u001b[0m \u001b[0mmatplotlib\u001b[0m\u001b[0;34m.\u001b[0m\u001b[0mpyplot\u001b[0m \u001b[0;32mas\u001b[0m \u001b[0mplt\u001b[0m\u001b[0;34m\u001b[0m\u001b[0;34m\u001b[0m\u001b[0m\n\u001b[1;32m      4\u001b[0m \u001b[0;32mimport\u001b[0m \u001b[0mnumpy\u001b[0m \u001b[0;32mas\u001b[0m \u001b[0mnp\u001b[0m\u001b[0;34m\u001b[0m\u001b[0;34m\u001b[0m\u001b[0m\n\u001b[1;32m      5\u001b[0m \u001b[0;34m\u001b[0m\u001b[0m\n",
            "\u001b[0;31mModuleNotFoundError\u001b[0m: No module named 'streamlit'",
            "",
            "\u001b[0;31m---------------------------------------------------------------------------\u001b[0;32m\nNOTE: If your import is failing due to a missing package, you can\nmanually install dependencies using either !pip or !apt.\n\nTo view examples of installing some common dependencies, click the\n\"Open Examples\" button below.\n\u001b[0;31m---------------------------------------------------------------------------\u001b[0m\n"
          ],
          "errorDetails": {
            "actions": [
              {
                "action": "open_url",
                "actionText": "Open Examples",
                "url": "/notebooks/snippets/importing_libraries.ipynb"
              }
            ]
          }
        }
      ],
      "source": [
        "import pandas as pd\n",
        "import streamlit as st\n",
        "import matplotlib.pyplot as plt\n",
        "import numpy as np\n",
        "\n",
        "st.title('Quant Python Streamlit Example')\n",
        "\n",
        "# Let's create a DataFrame with random data representing the \"Fear Index\"\n",
        "date_range = pd.date_range(start='01-01-2019', end='12-31-2021', freq='B')\n",
        "fear_index = np.random.randint(low=0, high=100, size=len(date_range))\n",
        "greed_index = np.random.randint(low=0, high=100, size=len(date_range))\n",
        "\n",
        "\n",
        "df = pd.DataFrame({'Fear Index': fear_index, 'Greed Index': greed_index}, index=date_range)\n",
        "\n",
        "st.write(df)\n",
        "\n",
        "# Plot the data\n",
        "fig, ax = plt.subplots(figsize=(10, 6))\n",
        "ax.plot(df.index, df['Fear Index'], label='Fear Index', color='red')\n",
        "ax.fill_between(df.index, df['Fear Index'], color='red', alpha=0.1)\n",
        "ax.set_title('Stock Market Fear Index Over Time')\n",
        "ax.set_xlabel('Date')\n",
        "ax.set_ylabel('Fear Index')\n",
        "ax.legend()\n",
        "ax.grid(True)\n",
        "\n",
        "# Let's create a DataFrame with random data representing the \"Fear Index\"\n",
        "date_range = pd.date_range(start='01-01-2019', end='12-31-2021', freq='B')\n",
        "fear_index = np.random.randint(low=0, high=100, size=len(date_range))\n",
        "\n",
        "df = pd.DataFrame({'Greed Index': fear_index}, index=date_range)\n",
        "\n",
        "# Plot the data\n",
        "fig, ax = plt.subplots(figsize=(10, 6))\n",
        "ax.plot(df.index, df['Greed Index'], label='Greed Index', color='red')\n",
        "ax.fill_between(df.index, df['Greed Index'], color='red', alpha=0.1)\n",
        "ax.set_title('Stock Market Greed Index Over Time')\n",
        "ax.set_xlabel('Date')\n",
        "ax.set_ylabel('Greed Index')\n",
        "ax.legend()\n",
        "ax.grid(True)"
      ]
    },
    {
      "cell_type": "code",
      "source": [
        "# Now we can view our streamlit app in browser, type this on terminal\n",
        "streamlit run /Users/'your username'/'...'/streamlittest/QuantStreamlit.py"
      ],
      "metadata": {
        "colab": {
          "base_uri": "https://localhost:8080/",
          "height": 136
        },
        "id": "skuZVl4iANYP",
        "outputId": "61284bf7-208f-475d-8c9a-2d7b43d73237"
      },
      "execution_count": 3,
      "outputs": [
        {
          "output_type": "error",
          "ename": "SyntaxError",
          "evalue": "ignored",
          "traceback": [
            "\u001b[0;36m  File \u001b[0;32m\"<ipython-input-3-c2e0f86d3076>\"\u001b[0;36m, line \u001b[0;32m2\u001b[0m\n\u001b[0;31m    streamlit run /Users/'your username'/'...'/streamlittest/QuantStreamlit.py\u001b[0m\n\u001b[0m              ^\u001b[0m\n\u001b[0;31mSyntaxError\u001b[0m\u001b[0;31m:\u001b[0m invalid syntax\n"
          ]
        }
      ]
    }
  ]
}