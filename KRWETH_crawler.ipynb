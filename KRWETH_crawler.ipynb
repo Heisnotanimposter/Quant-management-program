{
  "nbformat": 4,
  "nbformat_minor": 0,
  "metadata": {
    "colab": {
      "provenance": [],
      "authorship_tag": "ABX9TyNZKjRV7i3Q8sjFqpu+l7J7",
      "include_colab_link": true
    },
    "kernelspec": {
      "name": "python3",
      "display_name": "Python 3"
    },
    "language_info": {
      "name": "python"
    }
  },
  "cells": [
    {
      "cell_type": "markdown",
      "metadata": {
        "id": "view-in-github",
        "colab_type": "text"
      },
      "source": [
        "<a href=\"https://colab.research.google.com/github/Heisnotanimposter/UPbit-quant/blob/main/KRWETH_crawler.ipynb\" target=\"_parent\"><img src=\"https://colab.research.google.com/assets/colab-badge.svg\" alt=\"Open In Colab\"/></a>"
      ]
    },
    {
      "cell_type": "code",
      "execution_count": null,
      "metadata": {
        "id": "VJ2VLdBsWb7c"
      },
      "outputs": [],
      "source": [
        "!pip install pyupbit\n",
        "\n",
        "import time\n",
        "import pyupbit\n",
        "import datetime\n",
        "\n",
        "\n",
        "access_key = \"  \"\n",
        "secret_key = \"  \"\n",
        "upbit = pyupbit.Upbit(access_key, secret_key)"
      ]
    },
    {
      "cell_type": "code",
      "source": [
        "# Define your trading strategy\n",
        "def buy_sell_strategy(ticker):\n",
        "    # Get current ticker price and MACD indicator\n",
        "    df = pyupbit.get_ohlcv(ticker)\n",
        "    macd = df['close'].ewm(span=12).mean() - df['close'].ewm(span=26).mean()\n",
        "    macd_signal = macd.ewm(span=9).mean()\n",
        "    current_price = pyupbit.get_current_price(ticker)\n",
        "\n",
        "    # Make buy and sell decisions based on the MACD indicator\n",
        "    if macd[-2] < macd_signal[-2] and macd[-1] > macd_signal[-1]:\n",
        "        krw_balance = upbit.get_balance(\"KRW\")\n",
        "        if krw_balance > 10000:\n",
        "            upbit.buy_market_order(ticker, krw_balance*0.9995)\n",
        "            return True\n",
        "    elif macd[-2] > macd_signal[-2] and macd[-1] < macd_signal[-1]:\n",
        "        coin_balance = upbit.get_balance(ticker)\n",
        "        if coin_balance > 0.0001:\n",
        "            upbit.sell_market_order(ticker, coin_balance)\n",
        "            return True\n",
        "    return False\n"
      ],
      "metadata": {
        "id": "lA7hFp1hW1yX"
      },
      "execution_count": null,
      "outputs": []
    },
    {
      "cell_type": "code",
      "source": [
        "\n",
        "# Run auto quant trading\n",
        "for i in range(1000):\n",
        "    try:\n",
        "        now = datetime.datetime.now()\n",
        "        start_time = datetime.datetime(now.year, now.month, now.day)  # Start of the day\n",
        "\n",
        "        # Get the candlestick data for the KRW-ETC market\n",
        "        df = pyupbit.get_ohlcv(\"KRW-ETC\", interval=\"day\", to=now)\n",
        "\n",
        "        # Save the candlestick data to a CSV file\n",
        "        df.to_csv('krw_etc_candlesticks.csv')\n",
        "\n",
        "        # Get the start time of the first candlestick\n",
        "        if start_time == df.index[0]:\n",
        "            if buy_sell_strategy(\"KRW-ETC\"):\n",
        "                print(\"Trading signal detected and executed.\")\n",
        "\n",
        "        # Wait for the next trading opportunity\n",
        "        time.sleep(1)\n",
        "    except Exception as e:\n",
        "        print(e)\n",
        "        time.sleep(1)"
      ],
      "metadata": {
        "id": "QxLAhhLVW3aZ"
      },
      "execution_count": null,
      "outputs": []
    },
    {
      "cell_type": "code",
      "source": [],
      "metadata": {
        "id": "QkXtB6KHWg3V"
      },
      "execution_count": null,
      "outputs": []
    }
  ]
}